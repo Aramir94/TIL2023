{
 "cells": [
  {
   "cell_type": "markdown",
   "id": "0c271c6b",
   "metadata": {},
   "source": [
    "# best sellers 가져오기 "
   ]
  },
  {
   "cell_type": "code",
   "execution_count": null,
   "id": "a2b4c455",
   "metadata": {},
   "outputs": [],
   "source": [
    "import requests\n",
    "from bs4 import BeautifulSoup\n",
    "import time "
   ]
  },
  {
   "cell_type": "code",
   "execution_count": null,
   "id": "ca394bcf",
   "metadata": {},
   "outputs": [],
   "source": [
    "from tqdm import tqdm\n",
    "\n",
    "import pandas as pd\n",
    "import re\n",
    "\n",
    "from selenium import webdriver\n",
    "from webdriver_manager.chrome import ChromeDriverManager\n",
    "from selenium.webdriver.common.by import By\n",
    "from time import sleep\n",
    "import chromedriver_autoinstaller\n",
    "from selenium.webdriver.chrome.options import Options\n",
    "\n",
    "chromedriver_autoinstaller.install()\n",
    "options = Options()\n",
    "\n",
    "#options.add_argument('headless')     # 크롬브라우저 숨기기\n",
    "options.add_argument('window-size=1920,1080')  # 모니터 해상도 지정\n",
    "options.add_argument('disable-gpu')  # 불필요한 GPU 기능을 제거해서 셀레니움 작동 속도를 올려주는 옵션\n",
    "options.add_argument('--no-sandbox')\n",
    "options.add_argument(\"--disable-dev-shm-usage\")"
   ]
  },
  {
   "cell_type": "code",
   "execution_count": null,
   "id": "b4d953ac",
   "metadata": {},
   "outputs": [],
   "source": [
    "def review_cralwer(product_number):\n",
    "\n",
    "    headers = {\n",
    "        'Accept': '*/*',\n",
    "        'Accept-Language': 'en-US,en;q=0.9,ko;q=0.8',\n",
    "        'Cache-Control': 'no-cache',\n",
    "        'Connection': 'keep-alive',\n",
    "        # 'Cookie': 'CheckSameSite3=IsValidSameSiteSet; AladdinUser=UID=603644110&SID=P6yC3e7Rix2KKe9hd%2fRL%2bQ%3d%3d; AladdinSession=UID=603644110&SID=P6yC3e7Rix2KKe9hd%2fRL%2bQ%3d%3d; AladdinUS=zExY69KPCoN91xVRs4hFdg%3d%3d&USA=0; _gcl_au=1.1.1070067853.1683997944; _BS_GUUID=3g7FfVVdczkjLLHpC1bD2LC2PshbpPPt5W8lS4y4; _hackle_hid=4fa31a98-e2d8-4841-bca0-8c148526122f; _ga=GA1.1.1510244557.1683997944; _hackle_session_id_LFF0kdW8JPQCyXe70FlpBaud=1683997944678.081a8803; _TRK_AUIDA_13987=3e92c7c2893c068100a3402f000fc079:2; _TRK_ASID_13987=df8a436d375e9c6807c0ebb68d7d0070; refererURL=https://www.aladin.co.kr/shop/wproduct.aspx?ItemId=309295168; _hackle_last_event_ts_LFF0kdW8JPQCyXe70FlpBaud=1684037934522; _ga_VKYKBC0ZHH=GS1.1.1684037888.2.1.1684037994.47.0.0',\n",
    "        'DNT': '1',\n",
    "        'Pragma': 'no-cache',\n",
    "        'Referer': 'https://www.aladin.co.kr/shop/wproduct.aspx?ItemId=309295168',\n",
    "        'Sec-Fetch-Dest': 'empty',\n",
    "        'Sec-Fetch-Mode': 'cors',\n",
    "        'Sec-Fetch-Site': 'same-origin',\n",
    "        'User-Agent': 'Mozilla/5.0 (Macintosh; Intel Mac OS X 10_15_7) AppleWebKit/537.36 (KHTML, like Gecko) Chrome/113.0.0.0 Safari/537.36',\n",
    "        'X-Requested-With': 'XMLHttpRequest',\n",
    "        'sec-ch-ua': '\"Google Chrome\";v=\"113\", \"Chromium\";v=\"113\", \"Not-A.Brand\";v=\"24\"',\n",
    "        'sec-ch-ua-mobile': '?0',\n",
    "        'sec-ch-ua-platform': '\"macOS\"',\n",
    "    }\n",
    "\n",
    "    params = {\n",
    "        'ProductItemId': product_number,\n",
    "        'itemId': product_number,\n",
    "        'pageCount': '100', # 몇개 리뷰 가져 올건지 \n",
    "        'communitytype': 'CommentReview',\n",
    "        'nemoType': '-1',\n",
    "        'page': '1',\n",
    "        'startNumber': '1',\n",
    "        'endNumber': '100', # 마지막 번호\n",
    "        'sort': '2',\n",
    "        'IsOrderer': '2',\n",
    "        'BranchType': '1',\n",
    "        'IsAjax': 'true',\n",
    "        'pageType': '0',\n",
    "    }\n",
    "\n",
    "    response = requests.get(\n",
    "        'https://www.aladin.co.kr/ucl/shop/product/ajax/GetCommunityListAjax.aspx',\n",
    "        params=params,\n",
    "        headers=headers)\n",
    "    soup = BeautifulSoup(response.content, 'html.parser')\n",
    "    \n",
    "    # Find all div elements with id starting with \"spnPaper\"\n",
    "    target_elements = soup.find_all('div', id=lambda value: value and value.startswith('spnPaper'))\n",
    "    # Extract the content of the elements\n",
    "    review_list = [element.get_text(strip=True) for element in target_elements]\n",
    "    review_list = review_list[1::2] # 스포일러 머시깽이 버려야 해서 \n",
    "    \n",
    "    return review_list"
   ]
  },
  {
   "cell_type": "code",
   "execution_count": 4,
   "id": "3178c585",
   "metadata": {},
   "outputs": [],
   "source": [
    "def description_crawler(contents_id):\n",
    "    headers = {\n",
    "        'Accept': '*/*',\n",
    "        'Accept-Language': 'en-US,en;q=0.9,ko;q=0.8',\n",
    "        'Cache-Control': 'no-cache',\n",
    "        'Connection': 'keep-alive',\n",
    "        # 'Cookie': 'CheckSameSite3=IsValidSameSiteSet; AladdinUser=UID=603644110&SID=P6yC3e7Rix2KKe9hd%2fRL%2bQ%3d%3d; AladdinSession=UID=603644110&SID=P6yC3e7Rix2KKe9hd%2fRL%2bQ%3d%3d; AladdinUS=zExY69KPCoN91xVRs4hFdg%3d%3d&USA=0; _gcl_au=1.1.1070067853.1683997944; _BS_GUUID=3g7FfVVdczkjLLHpC1bD2LC2PshbpPPt5W8lS4y4; _hackle_hid=4fa31a98-e2d8-4841-bca0-8c148526122f; _ga=GA1.1.1510244557.1683997944; _hackle_session_id_LFF0kdW8JPQCyXe70FlpBaud=1683997944678.081a8803; _TRK_AUIDA_13987=3e92c7c2893c068100a3402f000fc079:2; _TRK_ASID_13987=df8a436d375e9c6807c0ebb68d7d0070; ckMobile=SiteMode=Mobile; divGoodsEventBottomLayerCount=1; refererURL=https://www.aladin.co.kr/shop/wproduct.aspx?ItemId=309295168; _ga_VKYKBC0ZHH=GS1.1.1684037888.2.1.1684044602.60.0.0; _hackle_last_event_ts_LFF0kdW8JPQCyXe70FlpBaud=1684044603007',\n",
    "        'DNT': '1',\n",
    "        'Pragma': 'no-cache',\n",
    "        'Referer': 'https://www.aladin.co.kr/shop/wproduct.aspx?ItemId=309295168',\n",
    "        'Sec-Fetch-Dest': 'empty',\n",
    "        'Sec-Fetch-Mode': 'cors',\n",
    "        'Sec-Fetch-Site': 'same-origin',\n",
    "        'User-Agent': 'Mozilla/5.0 (Macintosh; Intel Mac OS X 10_15_7) AppleWebKit/537.36 (KHTML, like Gecko) Chrome/113.0.0.0 Safari/537.36',\n",
    "        'X-Requested-With': 'XMLHttpRequest',\n",
    "        'sec-ch-ua': '\"Google Chrome\";v=\"113\", \"Chromium\";v=\"113\", \"Not-A.Brand\";v=\"24\"',\n",
    "        'sec-ch-ua-mobile': '?0',\n",
    "        'sec-ch-ua-platform': '\"macOS\"',\n",
    "    }\n",
    "\n",
    "    params = {\n",
    "        'ISBN': contents_id,\n",
    "        'name': 'Introduce',\n",
    "        'type': '0',\n",
    "        'date': '15',\n",
    "    }\n",
    "\n",
    "    response = requests.get('https://www.aladin.co.kr/shop/product/getContents.aspx', params=params, headers=headers)\n",
    "    soup = BeautifulSoup(response.content, 'html.parser')\n",
    "    element = soup.find(class_='Ere_prod_mconts_R')\n",
    "    contents = element.get_text(strip='text')\n",
    "    return contents"
   ]
  },
  {
   "cell_type": "code",
   "execution_count": 5,
   "id": "b5c87f6b",
   "metadata": {},
   "outputs": [],
   "source": [
    "# 책 100개 목록 가져오기 : 타이틀, url만"
   ]
  },
  {
   "cell_type": "code",
   "execution_count": 52,
   "id": "1f40bd59",
   "metadata": {},
   "outputs": [],
   "source": [
    "book_df = pd.DataFrame()\n",
    "\n",
    "for page in [1,2,3]:\n",
    "    \n",
    "    # 한 페이지에 50개씩 2페이지 가져와야합니다\n",
    "    response = requests.get(f'https://www.aladin.co.kr/shop/common/wbest.aspx?BestType=Bestseller&BranchType=1&CID=0&page={page}&cnt=50&SortOrder=1')\n",
    "    soup = BeautifulSoup(response.content, 'html.parser')\n",
    "    product_url_element = soup.select('.ss_book_list li a.bo3')\n",
    "    \n",
    "    product_name = [i.get_text() for i in product_url_element]\n",
    "    product_url = [i['href'] for i in product_url_element]\n",
    "    \n",
    "    tmp_df = pd.DataFrame()\n",
    "    tmp_df['name'] = product_name\n",
    "    tmp_df['url'] = product_url\n",
    "    \n",
    "    book_df = pd.concat([book_df, tmp_df])"
   ]
  },
  {
   "cell_type": "code",
   "execution_count": 53,
   "id": "39bf55a2",
   "metadata": {},
   "outputs": [],
   "source": [
    "# 상세 정보 및 리뷰 데이터 가져 오기 "
   ]
  },
  {
   "cell_type": "code",
   "execution_count": 8,
   "id": "307d1991",
   "metadata": {},
   "outputs": [],
   "source": [
    "driver = webdriver.Chrome(options=options)"
   ]
  },
  {
   "cell_type": "code",
   "execution_count": 9,
   "id": "8c827388",
   "metadata": {},
   "outputs": [
    {
     "name": "stderr",
     "output_type": "stream",
     "text": [
      "100%|█████████████████████████████████████████| 150/150 [15:46<00:00,  6.31s/it]\n"
     ]
    }
   ],
   "source": [
    "data_list = []\n",
    "\n",
    "for url in tqdm(book_df['url']):\n",
    "    try:\n",
    "        driver.get(url)\n",
    "        driver.implicitly_wait(1)  # 10초간 대기\n",
    "\n",
    "        author = driver.find_element(By.XPATH, '//*[@id=\"Ere_prod_allwrap\"]/div[3]/div[2]/div[1]/div/ul/li[3]/a[1]')\n",
    "        author = author.text\n",
    "\n",
    "        price = driver.find_element(By.XPATH, '//*[@id=\"Ere_prod_allwrap\"]/div[4]/div[4]/div/div[3]/ul/li[1]/div[2]')\n",
    "        price = price.text\n",
    "\n",
    "        reivew_count = driver.find_element(By.XPATH, '//*[@id=\"wa_product_top1_wa_Top_Ranking_pnlRanking\"]/div[2]/a[3]')\n",
    "        reivew_count = reivew_count.text\n",
    "\n",
    "        # 리뷰 가져 오기 \n",
    "        product_number = url.split('ItemId=')[1] \n",
    "        review_list = review_cralwer(product_number)\n",
    "\n",
    "        data_list.append([author, price, reivew_count, review_list])\n",
    "    \n",
    "    except:\n",
    "        data_list.append(['', '', '', ''])"
   ]
  },
  {
   "cell_type": "code",
   "execution_count": 10,
   "id": "ef7d289f",
   "metadata": {},
   "outputs": [],
   "source": [
    "import pandas as pd"
   ]
  },
  {
   "cell_type": "code",
   "execution_count": 11,
   "id": "7d8bf1d8",
   "metadata": {},
   "outputs": [],
   "source": [
    "contents_id = pd.read_csv('./Downloads/알라딘_주간+베스트_국내도서_2023년5월2주_20230514.xls')"
   ]
  },
  {
   "cell_type": "code",
   "execution_count": 12,
   "id": "4e72c0ee",
   "metadata": {},
   "outputs": [],
   "source": [
    "contents_id = contents_id.iloc[:150]['ISBN']"
   ]
  },
  {
   "cell_type": "code",
   "execution_count": 13,
   "id": "1029f746",
   "metadata": {
    "scrolled": true
   },
   "outputs": [
    {
     "name": "stderr",
     "output_type": "stream",
     "text": [
      "100%|█████████████████████████████████████████| 150/150 [00:22<00:00,  6.79it/s]\n"
     ]
    }
   ],
   "source": [
    "contents_list =[]\n",
    "for i in tqdm(contents_id):\n",
    "    try:\n",
    "        contents_list.append(description_crawler(i))\n",
    "    except:\n",
    "        contents_list.append('')"
   ]
  },
  {
   "cell_type": "code",
   "execution_count": 70,
   "id": "8e179f98",
   "metadata": {},
   "outputs": [],
   "source": [
    "second_df = pd.DataFrame(data_list, columns=['저자', '가격', '리뷰수', '리뷰내용'])"
   ]
  },
  {
   "cell_type": "code",
   "execution_count": 79,
   "id": "05986706",
   "metadata": {},
   "outputs": [],
   "source": [
    "second_df['책소개'] = contents_list"
   ]
  },
  {
   "cell_type": "code",
   "execution_count": 72,
   "id": "d40ebb58",
   "metadata": {},
   "outputs": [],
   "source": [
    "# 컬럼 수정\n",
    "second_df['리뷰수'] = second_df['리뷰수'].str.replace('100자평', '')"
   ]
  },
  {
   "cell_type": "code",
   "execution_count": 73,
   "id": "cc05faf4",
   "metadata": {},
   "outputs": [],
   "source": [
    "second_df['리뷰수'] = second_df['리뷰수'].apply(lambda x: re.sub(r'\\(|\\)', '', x))\n"
   ]
  },
  {
   "cell_type": "code",
   "execution_count": 74,
   "id": "49a97111",
   "metadata": {},
   "outputs": [],
   "source": [
    "second_df['가격'] = second_df['가격'].str.replace('원', '')"
   ]
  },
  {
   "cell_type": "code",
   "execution_count": 75,
   "id": "6c3bfb3b",
   "metadata": {},
   "outputs": [],
   "source": [
    "second_df['제목'] = book_df['name'].to_list()"
   ]
  },
  {
   "cell_type": "code",
   "execution_count": 76,
   "id": "c05511e4",
   "metadata": {},
   "outputs": [],
   "source": [
    "second_df['사이트'] = '알라딘'"
   ]
  },
  {
   "cell_type": "code",
   "execution_count": 77,
   "id": "7a909337",
   "metadata": {},
   "outputs": [],
   "source": [
    "second_df = second_df.reset_index()"
   ]
  },
  {
   "cell_type": "code",
   "execution_count": 78,
   "id": "8eaad6f6",
   "metadata": {},
   "outputs": [],
   "source": [
    "second_df['순위'] = second_df['index'] + 1"
   ]
  },
  {
   "cell_type": "code",
   "execution_count": 81,
   "id": "22934edb",
   "metadata": {},
   "outputs": [],
   "source": [
    "second_df = second_df[['사이트', '순위', '제목', '저자', '가격', '책소개', '리뷰수', '리뷰내용']]"
   ]
  },
  {
   "cell_type": "code",
   "execution_count": 82,
   "id": "6b56a322",
   "metadata": {},
   "outputs": [],
   "source": [
    "second_df.to_excel('알라딘.xlsx', index=False)"
   ]
  },
  {
   "cell_type": "code",
   "execution_count": null,
   "id": "f86b39a0",
   "metadata": {},
   "outputs": [],
   "source": []
  }
 ],
 "metadata": {
  "kernelspec": {
   "display_name": "dask",
   "language": "python",
   "name": "dask_1"
  },
  "language_info": {
   "codemirror_mode": {
    "name": "ipython",
    "version": 3
   },
   "file_extension": ".py",
   "mimetype": "text/x-python",
   "name": "python",
   "nbconvert_exporter": "python",
   "pygments_lexer": "ipython3",
   "version": "3.9.13"
  }
 },
 "nbformat": 4,
 "nbformat_minor": 5
}
