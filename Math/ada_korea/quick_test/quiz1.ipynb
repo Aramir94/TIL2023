{
 "cells": [
  {
   "cell_type": "code",
   "execution_count": 6,
   "metadata": {},
   "outputs": [],
   "source": [
    "## 1, 2, 3, 4의 값을 0.4, 0.3, 0.2, 0.1의 확률로 취하는 X를 1,000개 모의생성하고 빈도분 포를 제시하라"
   ]
  },
  {
   "cell_type": "code",
   "execution_count": 1,
   "metadata": {},
   "outputs": [],
   "source": [
    "import random\n",
    "prob = [0.4, 0.3, 0.2, 0.1]"
   ]
  },
  {
   "cell_type": "code",
   "execution_count": 3,
   "metadata": {},
   "outputs": [
    {
     "data": {
      "text/plain": [
       "1    405\n",
       "2    291\n",
       "3    201\n",
       "4    103\n",
       "dtype: int64"
      ]
     },
     "execution_count": 3,
     "metadata": {},
     "output_type": "execute_result"
    }
   ],
   "source": [
    "import pandas as pd\n",
    "outcomes = list(range(1, len(prob)+1))\n",
    "smaples = random.choices(outcomes, k=1000, weights=prob)\n",
    "pd.Series(smaples).value_counts().sort_index()"
   ]
  },
  {
   "cell_type": "code",
   "execution_count": 5,
   "metadata": {},
   "outputs": [
    {
     "data": {
      "text/plain": [
       "0    394\n",
       "1    298\n",
       "2    204\n",
       "3    104\n",
       "dtype: int64"
      ]
     },
     "execution_count": 5,
     "metadata": {},
     "output_type": "execute_result"
    }
   ],
   "source": [
    "import numpy as np \n",
    "def rnd(size, prob):\n",
    "    x = [random.uniform(0,1) for i in range(size)]\n",
    "    y = [0] * size\n",
    "    cumulative = list(np.cumsum(prob))\n",
    "    for i in range(size):\n",
    "        y[i] = min(j for j,p in enumerate(cumulative) if x[i] < p)\n",
    "    return y\n",
    "\n",
    "labels = pd.Series(rnd(size=1000, prob=prob))\n",
    "labels.value_counts().sort_index()"
   ]
  },
  {
   "cell_type": "code",
   "execution_count": 8,
   "metadata": {},
   "outputs": [],
   "source": [
    "# 누적 분포함수 F(X) = $e^x/(1+e^x), 음의 무한대에서 양의 무한대로 x 범위를 가지는\n",
    "# 확률 변수 x를 1000개 모의 생성하고 평균 표준 편차 및 히스토그램을 제시하라 \n",
    "# F(x)의 역함수를 쓰지 않아야함"
   ]
  },
  {
   "cell_type": "code",
   "execution_count": 15,
   "metadata": {},
   "outputs": [],
   "source": [
    "import numpy as np\n",
    "from scipy.optimize import root\n",
    "\n",
    "def F(x):\n",
    "    return np.exp(x) / (1+np.exp(x))\n",
    "\n",
    "def H(x, u):\n",
    "    return F(x) - u\n",
    "\n",
    "size = 1000\n",
    "usize = np.random.uniform(size=size)\n",
    "rnd = np.empty(size)\n",
    "\n",
    "for i in range(size):\n",
    "    u = usize[i]\n",
    "    rnd[i] = root(H, x0 =0, args=(u,)).x[0]"
   ]
  },
  {
   "cell_type": "code",
   "execution_count": 17,
   "metadata": {},
   "outputs": [
    {
     "data": {
      "text/plain": [
       "numpy.ndarray"
      ]
     },
     "execution_count": 17,
     "metadata": {},
     "output_type": "execute_result"
    }
   ],
   "source": [
    "type(rnd)"
   ]
  },
  {
   "cell_type": "code",
   "execution_count": 18,
   "metadata": {},
   "outputs": [
    {
     "data": {
      "text/plain": [
       "(0.05327894854749227, 1.9373390187845612)"
      ]
     },
     "execution_count": 18,
     "metadata": {},
     "output_type": "execute_result"
    }
   ],
   "source": [
    "rnd.mean(), rnd.std()"
   ]
  },
  {
   "cell_type": "code",
   "execution_count": 19,
   "metadata": {},
   "outputs": [
    {
     "data": {
      "text/plain": [
       "1.8137993642342178"
      ]
     },
     "execution_count": 19,
     "metadata": {},
     "output_type": "execute_result"
    }
   ],
   "source": [
    "np.pi/np.sqrt(3)"
   ]
  },
  {
   "cell_type": "code",
   "execution_count": 20,
   "metadata": {},
   "outputs": [
    {
     "data": {
      "image/png": "[encoded data removed]",
      "text/plain": [
       "<Figure size 640x480 with 1 Axes>"
      ]
     },
     "metadata": {},
     "output_type": "display_data"
    }
   ],
   "source": [
    "import matplotlib.pyplot as plt\n",
    "plt.hist(rnd)\n",
    "plt.show()"
   ]
  },
  {
   "cell_type": "code",
   "execution_count": null,
   "metadata": {},
   "outputs": [],
   "source": []
  }
 ],
 "metadata": {
  "kernelspec": {
   "display_name": "dask_1",
   "language": "python",
   "name": "python3"
  },
  "language_info": {
   "codemirror_mode": {
    "name": "ipython",
    "version": 3
   },
   "file_extension": ".py",
   "mimetype": "text/x-python",
   "name": "python",
   "nbconvert_exporter": "python",
   "pygments_lexer": "ipython3",
   "version": "3.9.13"
  },
  "orig_nbformat": 4
 },
 "nbformat": 4,
 "nbformat_minor": 2
}
