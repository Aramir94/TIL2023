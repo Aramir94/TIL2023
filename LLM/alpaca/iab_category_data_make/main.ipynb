{
 "cells": [
  {
   "cell_type": "code",
   "execution_count": 47,
   "metadata": {},
   "outputs": [
    {
     "name": "stderr",
     "output_type": "stream",
     "text": [
      "  0%|          | 0/703 [00:00<?, ?it/s]"
     ]
    },
    {
     "name": "stdout",
     "output_type": "stream",
     "text": [
      "with this Attractions make title with 5 words\n"
     ]
    },
    {
     "name": "stderr",
     "output_type": "stream",
     "text": [
      "  0%|          | 1/703 [00:01<16:22,  1.40s/it]"
     ]
    },
    {
     "name": "stdout",
     "output_type": "stream",
     "text": [
      "with this Attractions Amusement and Theme Parks make title with 10 words\n"
     ]
    },
    {
     "name": "stderr",
     "output_type": "stream",
     "text": [
      "  0%|          | 2/703 [00:02<15:37,  1.34s/it]"
     ]
    },
    {
     "name": "stdout",
     "output_type": "stream",
     "text": [
      "error occured\n",
      "with this Attractions Bars & Restaurants make title with 15 words\n"
     ]
    },
    {
     "name": "stderr",
     "output_type": "stream",
     "text": [
      "  0%|          | 3/703 [00:04<19:58,  1.71s/it]"
     ]
    },
    {
     "name": "stdout",
     "output_type": "stream",
     "text": [
      "with this Attractions Casinos & Gambling make title with 20 words\n"
     ]
    },
    {
     "name": "stderr",
     "output_type": "stream",
     "text": [
      "  1%|          | 4/703 [00:07<22:30,  1.93s/it]"
     ]
    },
    {
     "name": "stdout",
     "output_type": "stream",
     "text": [
      "with this Attractions Historic Site and Landmark Tours make title with 25 words\n"
     ]
    },
    {
     "name": "stderr",
     "output_type": "stream",
     "text": [
      "  1%|          | 5/703 [00:09<24:44,  2.13s/it]"
     ]
    },
    {
     "name": "stdout",
     "output_type": "stream",
     "text": [
      "with this Attractions Malls & Shopping Centers make title with 30 words\n"
     ]
    },
    {
     "name": "stderr",
     "output_type": "stream",
     "text": [
      "  1%|          | 6/703 [00:12<27:39,  2.38s/it]"
     ]
    },
    {
     "name": "stdout",
     "output_type": "stream",
     "text": [
      "with this Attractions Museums & Galleries make title with 35 words\n"
     ]
    }
   ],
   "source": [
    "# chatgpt를 이용하여서 iab category 와 연관된 타이틀 만들기 데이터 \n",
    "import pandas as pd\n",
    "from tqdm import tqdm\n",
    "\n",
    "iab_data = pd.read_excel('3.0_iab_taxonomy.xlsx')\n",
    "\n",
    "iab_data['final'] = iab_data['Tier 1'] + ' ' + iab_data['Tier 2'] + ' ' + iab_data['Tier 3']\n",
    "iab_data['final'] = iab_data['final'].str.strip()\n",
    "word_list = range(1, 10)\n",
    "\n",
    "# prompts example\n",
    "# with this {topic Attractions Casinos & Gambling} make title with {5} words\n",
    "import os \n",
    "import openai\n",
    "openai.api_key = ''\n",
    "\n",
    "# 모델 - GPT 3.5 Turbo 선택\n",
    "model = \"gpt-3.5-turbo\"\n",
    "import sqlite3\n",
    "\n",
    "# Connect to SQLite database\n",
    "conn = sqlite3.connect('iab_data.db')\n",
    "c = conn.cursor()\n",
    "\n",
    "# Create a table if it doesn't exist\n",
    "c.execute('''CREATE TABLE IF NOT EXISTS titles\n",
    "             (id INTEGER PRIMARY KEY AUTOINCREMENT, topic TEXT, title TEXT)''')\n",
    "\n",
    "\n",
    "for topic, word_num in zip(tqdm(iab_data['final']), word_list):\n",
    "    try:\n",
    "        query = f'with this {topic} make title with {word_num * 5} words'\n",
    "        print(query)\n",
    "\n",
    "        # 메시지 설정하기\n",
    "        messages = [\n",
    "                {\"role\": \"system\", \"content\": \"You are a helpful assistant.\"},\n",
    "                {\"role\": \"user\", \"content\": query}\n",
    "        ]\n",
    "\n",
    "        # ChatGPT API 호출하기\n",
    "        response = openai.ChatCompletion.create(\n",
    "            model=model,\n",
    "            messages=messages,\n",
    "            temperature=0.9\n",
    "        )\n",
    "        answer = response['choices'][0]['message']['content']\n",
    "        title = answer.strip('\"')\n",
    "        stopic = topic.strip()  \n",
    "        \n",
    "        # 디비 저장 \n",
    "        c.execute(\"INSERT INTO titles (topic, title) VALUES (?, ?)\", (topic, title))\n",
    "        conn.commit()\n",
    "    except:\n",
    "        print('error occured')\n",
    "conn.close()\n"
   ]
  },
  {
   "cell_type": "code",
   "execution_count": null,
   "metadata": {},
   "outputs": [],
   "source": []
  }
 ],
 "metadata": {
  "kernelspec": {
   "display_name": "base",
   "language": "python",
   "name": "python3"
  },
  "language_info": {
   "codemirror_mode": {
    "name": "ipython",
    "version": 3
   },
   "file_extension": ".py",
   "mimetype": "text/x-python",
   "name": "python",
   "nbconvert_exporter": "python",
   "pygments_lexer": "ipython3",
   "version": "3.9.13"
  },
  "orig_nbformat": 4
 },
 "nbformat": 4,
 "nbformat_minor": 2
}
