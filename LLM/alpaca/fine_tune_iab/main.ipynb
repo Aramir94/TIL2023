{
 "cells": [
  {
   "attachments": {},
   "cell_type": "markdown",
   "metadata": {},
   "source": [
    "# 이 코드는 우분투 3090에서 사용할수 있게 만들어졌습니다"
   ]
  },
  {
   "cell_type": "code",
   "execution_count": null,
   "metadata": {},
   "outputs": [],
   "source": [
    "# 알파카 모델 파인 튜닝해보기"
   ]
  },
  {
   "cell_type": "code",
   "execution_count": 1,
   "metadata": {},
   "outputs": [
    {
     "name": "stdout",
     "output_type": "stream",
     "text": [
      "Fri May 19 21:29:47 2023       \n",
      "+-----------------------------------------------------------------------------+\n",
      "| NVIDIA-SMI 520.61.05    Driver Version: 520.61.05    CUDA Version: 11.8     |\n",
      "|-------------------------------+----------------------+----------------------+\n",
      "| GPU  Name        Persistence-M| Bus-Id        Disp.A | Volatile Uncorr. ECC |\n",
      "| Fan  Temp  Perf  Pwr:Usage/Cap|         Memory-Usage | GPU-Util  Compute M. |\n",
      "|                               |                      |               MIG M. |\n",
      "|===============================+======================+======================|\n",
      "|   0  NVIDIA GeForce ...  On   | 00000000:65:00.0 Off |                  N/A |\n",
      "|  0%   28C    P8    19W / 350W |      1MiB / 24576MiB |      0%      Default |\n",
      "|                               |                      |                  N/A |\n",
      "+-------------------------------+----------------------+----------------------+\n",
      "                                                                               \n",
      "+-----------------------------------------------------------------------------+\n",
      "| Processes:                                                                  |\n",
      "|  GPU   GI   CI        PID   Type   Process name                  GPU Memory |\n",
      "|        ID   ID                                                   Usage      |\n",
      "|=============================================================================|\n",
      "|  No running processes found                                                 |\n",
      "+-----------------------------------------------------------------------------+\n"
     ]
    }
   ],
   "source": [
    "!nvidia-smi"
   ]
  },
  {
   "cell_type": "code",
   "execution_count": null,
   "metadata": {},
   "outputs": [],
   "source": [
    "# 설치"
   ]
  },
  {
   "cell_type": "code",
   "execution_count": 2,
   "metadata": {},
   "outputs": [
    {
     "name": "stdout",
     "output_type": "stream",
     "text": [
      "/home/perfact/fine_tune/alpaca-lora\n",
      "\u001b[33mWARNING: Keyring is skipped due to an exception: Failed to create the collection: Prompt dismissed..\u001b[0m\n"
     ]
    }
   ],
   "source": [
    "\"\"!git clone -q https://github.com/kairess/alpaca-lora.git\n",
    "%cd alpaca-lora\n",
    "!pip install -r requirements.txt -q\n",
    "!pip uninstall peft -y -q\n",
    "!pip install -q git+https://github.com/huggingface/peft.git@e536616888d51b453ed354a6f1e243fecb02ea08\"\""
   ]
  },
  {
   "cell_type": "code",
   "execution_count": null,
   "metadata": {},
   "outputs": [],
   "source": [
    "# 에러 디버깅 \n",
    "# 이거 한다고 조금 죽을뻔함\n",
    "## bitsandbytes 에러 -> cuda 인식이 잘 안되면 이런 오류가 발생하는듯 강제로 cpu에다가 cuda 동작하게 변경함\n",
    "# cudnn이 조금 중요한듯 합니다.\n",
    "\"\"\"\n",
    "git clone https://github.com/timdettmers/bitsandbytes.git\n",
    "cd bitsandbytes\n",
    "\n",
    "CUDA_VERSION=118 make cuda11x # 본인에 쿠다 버전에 맞게 nvcc -V로 확인하기 \n",
    "python setup.py install\n",
    "\n",
    "\n",
    "설치후 bitsandbytes 파일 찾기\n",
    "import inspect\n",
    "import bitsandbytes\n",
    "\n",
    "print(inspect.getfile(bitsandbytes))\n",
    "# 해당 파일 위치가 나올텐데 거기서 \n",
    "cp libbitsandbytes_cuda118.so libbitsandbytes_cpu.so 이런식으로 cpu 버전을 cuda118 버전으로 바꿔줍니다\n",
    "## cuda version 확인은 nvcc -V로 해서 똑 같이 셋팅 해주셔야 합니다.\n",
    "\"\"\""
   ]
  },
  {
   "cell_type": "code",
   "execution_count": null,
   "metadata": {},
   "outputs": [],
   "source": [
    "# 데이터 만들기"
   ]
  },
  {
   "cell_type": "code",
   "execution_count": 8,
   "metadata": {},
   "outputs": [],
   "source": [
    "import pandas as pd\n",
    "data = pd.read_csv('train_data3.csv') # 데이터 소스 케글 iab category\n",
    "data['query'] = data['title'] + ' ' + data['content'] # title과 본문 축약 내용이 들어가 있습니다. 확인해주세요\n",
    "\n",
    "data = data[~data['query'].isna()]\n",
    "data = data[~data['label'].isna()] # 빈 데이터가 있어서 해당 작업 필요합니다."
   ]
  },
  {
   "cell_type": "code",
   "execution_count": null,
   "metadata": {},
   "outputs": [],
   "source": [
    "# json 포맷으로 저장\n",
    "# instruction : 작업할 지시 항목\n",
    "# input : 카테고리 하고 싶은 데이터\n",
    "# output : 라벨 데이터 "
   ]
  },
  {
   "cell_type": "code",
   "execution_count": null,
   "metadata": {},
   "outputs": [
    {
     "data": {
      "text/html": [
       "<div>\n",
       "<style scoped>\n",
       "    .dataframe tbody tr th:only-of-type {\n",
       "        vertical-align: middle;\n",
       "    }\n",
       "\n",
       "    .dataframe tbody tr th {\n",
       "        vertical-align: top;\n",
       "    }\n",
       "\n",
       "    .dataframe thead th {\n",
       "        text-align: right;\n",
       "    }\n",
       "</style>\n",
       "<table border=\"1\" class=\"dataframe\">\n",
       "  <thead>\n",
       "    <tr style=\"text-align: right;\">\n",
       "      <th></th>\n",
       "      <th>query</th>\n",
       "      <th>label</th>\n",
       "    </tr>\n",
       "  </thead>\n",
       "  <tbody>\n",
       "    <tr>\n",
       "      <th>0</th>\n",
       "      <td>5 Looks That Put Burgundy Boots On Our Must-Ha...</td>\n",
       "      <td>Womens\\ Casual\\ Wear</td>\n",
       "    </tr>\n",
       "    <tr>\n",
       "      <th>1</th>\n",
       "      <td>How to Make the Most of Your 401K According to...</td>\n",
       "      <td>Personal\\ Investing</td>\n",
       "    </tr>\n",
       "    <tr>\n",
       "      <th>2</th>\n",
       "      <td>Mindful Eating “Thou shouldst eat to live; not...</td>\n",
       "      <td>Mens\\ Health</td>\n",
       "    </tr>\n",
       "    <tr>\n",
       "      <th>3</th>\n",
       "      <td>Early life adversity and high levels of FKBP5 ...</td>\n",
       "      <td>Hormonal\\ Disorders</td>\n",
       "    </tr>\n",
       "    <tr>\n",
       "      <th>4</th>\n",
       "      <td>Top 10 Strongest (Highest ATK) Monsters in Yu-...</td>\n",
       "      <td>Card\\ Games</td>\n",
       "    </tr>\n",
       "    <tr>\n",
       "      <th>...</th>\n",
       "      <td>...</td>\n",
       "      <td>...</td>\n",
       "    </tr>\n",
       "    <tr>\n",
       "      <th>9162</th>\n",
       "      <td>Koji from It Might Get loud Production brings ...</td>\n",
       "      <td>Audio\\ Production</td>\n",
       "    </tr>\n",
       "    <tr>\n",
       "      <th>9163</th>\n",
       "      <td>Go Ahead, Have a Heart Tonight is it! The year...</td>\n",
       "      <td>Mens\\ Health</td>\n",
       "    </tr>\n",
       "    <tr>\n",
       "      <th>9164</th>\n",
       "      <td>The Mobile Web Development Buffet In modern Mo...</td>\n",
       "      <td>Web\\ Hosting</td>\n",
       "    </tr>\n",
       "    <tr>\n",
       "      <th>9165</th>\n",
       "      <td>Stirring the Plot: New Cookbooks Offer Recipes...</td>\n",
       "      <td>Cookbooks</td>\n",
       "    </tr>\n",
       "    <tr>\n",
       "      <th>9166</th>\n",
       "      <td>All Aboard! Rocky Mountaineer Reveals the Sple...</td>\n",
       "      <td>Rail\\ Travel</td>\n",
       "    </tr>\n",
       "  </tbody>\n",
       "</table>\n",
       "<p>9167 rows × 2 columns</p>\n",
       "</div>"
      ],
      "text/plain": [
       "                                                  query                 label\n",
       "0     5 Looks That Put Burgundy Boots On Our Must-Ha...  Womens\\ Casual\\ Wear\n",
       "1     How to Make the Most of Your 401K According to...   Personal\\ Investing\n",
       "2     Mindful Eating “Thou shouldst eat to live; not...          Mens\\ Health\n",
       "3     Early life adversity and high levels of FKBP5 ...   Hormonal\\ Disorders\n",
       "4     Top 10 Strongest (Highest ATK) Monsters in Yu-...           Card\\ Games\n",
       "...                                                 ...                   ...\n",
       "9162  Koji from It Might Get loud Production brings ...     Audio\\ Production\n",
       "9163  Go Ahead, Have a Heart Tonight is it! The year...          Mens\\ Health\n",
       "9164  The Mobile Web Development Buffet In modern Mo...          Web\\ Hosting\n",
       "9165  Stirring the Plot: New Cookbooks Offer Recipes...             Cookbooks\n",
       "9166  All Aboard! Rocky Mountaineer Reveals the Sple...          Rail\\ Travel\n",
       "\n",
       "[9167 rows x 2 columns]"
      ]
     },
     "execution_count": 20,
     "metadata": {},
     "output_type": "execute_result"
    }
   ],
   "source": [
    "\n",
    "import json\n",
    "output = []\n",
    "for _, row in data.iterrows():\n",
    "    entry = {\n",
    "        'instruction': 'iab category of this data',\n",
    "        'input': row['query'],\n",
    "        'output': row['label']\n",
    "    }\n",
    "    output.append(entry)\n",
    "\n",
    "# Convert the JSON data to a string\n",
    "json_data = json.dumps(output, indent=2)\n",
    "\n",
    "# Print the JSON data\n",
    "print(json_data)"
   ]
  },
  {
   "cell_type": "markdown",
   "metadata": {},
   "source": []
  },
  {
   "cell_type": "code",
   "execution_count": 7,
   "metadata": {},
   "outputs": [
    {
     "name": "stdout",
     "output_type": "stream",
     "text": [
      "python: can't open file 'finetune.py': [Errno 2] No such file or directory\n"
     ]
    }
   ],
   "source": [
    "\"\"\"\n",
    "# finetuning 방법\n",
    "# alphca_lora 폴더에서 \n",
    "\n",
    "!python finetune.py \\\n",
    "    --base_model 'decapoda-research/llama-7b-hf' \\\n",
    "    --data_path 'output.json' \\\n",
    "    --output_dir './output' \\\n",
    "    --num_epochs 1 \\\n",
    "    --learning_rate 5e-4 \\\n",
    "    --val_set_size 2000 \\\n",
    "    --batch_size 512 \\\n",
    "    --micro_batch_size 16 \\\n",
    "    --prompt_template_name 'alpaca'\n",
    "    \"\"\""
   ]
  }
 ],
 "metadata": {
  "kernelspec": {
   "display_name": "base",
   "language": "python",
   "name": "python3"
  },
  "language_info": {
   "codemirror_mode": {
    "name": "ipython",
    "version": 3
   },
   "file_extension": ".py",
   "mimetype": "text/x-python",
   "name": "python",
   "nbconvert_exporter": "python",
   "pygments_lexer": "ipython3",
   "version": "3.8.5"
  },
  "orig_nbformat": 4
 },
 "nbformat": 4,
 "nbformat_minor": 2
}
