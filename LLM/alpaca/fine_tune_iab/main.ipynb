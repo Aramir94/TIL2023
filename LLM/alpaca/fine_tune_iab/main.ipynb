{
 "cells": [
  {
   "cell_type": "code",
   "execution_count": 1,
   "metadata": {},
   "outputs": [
    {
     "name": "stdout",
     "output_type": "stream",
     "text": [
      "Fri May 19 21:29:47 2023       \n",
      "+-----------------------------------------------------------------------------+\n",
      "| NVIDIA-SMI 520.61.05    Driver Version: 520.61.05    CUDA Version: 11.8     |\n",
      "|-------------------------------+----------------------+----------------------+\n",
      "| GPU  Name        Persistence-M| Bus-Id        Disp.A | Volatile Uncorr. ECC |\n",
      "| Fan  Temp  Perf  Pwr:Usage/Cap|         Memory-Usage | GPU-Util  Compute M. |\n",
      "|                               |                      |               MIG M. |\n",
      "|===============================+======================+======================|\n",
      "|   0  NVIDIA GeForce ...  On   | 00000000:65:00.0 Off |                  N/A |\n",
      "|  0%   28C    P8    19W / 350W |      1MiB / 24576MiB |      0%      Default |\n",
      "|                               |                      |                  N/A |\n",
      "+-------------------------------+----------------------+----------------------+\n",
      "                                                                               \n",
      "+-----------------------------------------------------------------------------+\n",
      "| Processes:                                                                  |\n",
      "|  GPU   GI   CI        PID   Type   Process name                  GPU Memory |\n",
      "|        ID   ID                                                   Usage      |\n",
      "|=============================================================================|\n",
      "|  No running processes found                                                 |\n",
      "+-----------------------------------------------------------------------------+\n"
     ]
    }
   ],
   "source": [
    "!nvidia-smi"
   ]
  },
  {
   "cell_type": "code",
   "execution_count": 2,
   "metadata": {},
   "outputs": [
    {
     "name": "stdout",
     "output_type": "stream",
     "text": [
      "/home/perfact/fine_tune/alpaca-lora\n",
      "\u001b[33mWARNING: Keyring is skipped due to an exception: Failed to create the collection: Prompt dismissed..\u001b[0m\n"
     ]
    }
   ],
   "source": [
    "!git clone -q https://github.com/kairess/alpaca-lora.git\n",
    "%cd alpaca-lora\n",
    "!pip install -r requirements.txt -q\n",
    "!pip uninstall peft -y -q\n",
    "!pip install -q git+https://github.com/huggingface/peft.git@e536616888d51b453ed354a6f1e243fecb02ea08"
   ]
  },
  {
   "cell_type": "code",
   "execution_count": 3,
   "metadata": {},
   "outputs": [
    {
     "data": {
      "text/plain": [
       "[{'instruction': '건강을 유지하기 위한 세 가지 팁을 알려주세요.',\n",
       "  'input': '',\n",
       "  'output': '세 가지 팁은 아침식사를 꼭 챙기며, 충분한 수면을 취하고, 적극적으로 운동을 하는 것입니다.'},\n",
       " {'instruction': '세 가지 기본 색은 무엇인가요?',\n",
       "  'input': '',\n",
       "  'output': '기본 색은 빨강, 파랑, 노랑입니다.'},\n",
       " {'instruction': '원자의 구조를 설명하세요.',\n",
       "  'input': '',\n",
       "  'output': '원자는 양성자, 중성자, 전자로 구성되어 있으며, 양성자와 중성자는 원자핵 안에 있고 전자는 주변에 있습니다.'},\n",
       " {'instruction': '대기 오염을 어떻게 줄일 수 있나요?',\n",
       "  'input': '',\n",
       "  'output': '대기 오염을 줄이기 위해 자동차 대신 대중교통을 이용하고, 미세먼지 배출량을 줄이기 위해 차량 정기 검사를 받아야 합니다. 또한 에너지 절약을 위해 전기를 아끼고, 나무를 심어 대기 오염을 줄일 수 있습니다.'},\n",
       " {'instruction': '어려운 결정을 내려야 했던 때를 설명하세요.',\n",
       "  'input': '',\n",
       "  'output': '제가 어려운 결정을 내려야 했던 때는 대학원 졸업 후 직장을 찾아야 했던 때입니다. 다양한 선택지가 있었지만 나의 관심사와 비전에 가장 부합하는 경력을 뽑는데 어려움이 있었습니다. 이 때 여러 사람들의 조언과 현재 상황에 대한 깊은 고민 끝에 적절한 선택을 내리게 되었습니다.'}]"
      ]
     },
     "execution_count": 3,
     "metadata": {},
     "output_type": "execute_result"
    }
   ],
   "source": [
    "!wget -q https://github.com/Beomi/KoAlpaca/raw/main/ko_alpaca_data.json\n",
    "\n",
    "import json\n",
    "\n",
    "with open('ko_alpaca_data.json', 'r') as f:\n",
    "    dataset = json.load(f)\n",
    "\n",
    "dataset[:5]"
   ]
  },
  {
   "cell_type": "code",
   "execution_count": 8,
   "metadata": {},
   "outputs": [],
   "source": [
    "import pandas as pd"
   ]
  },
  {
   "cell_type": "code",
   "execution_count": 10,
   "metadata": {},
   "outputs": [],
   "source": [
    "data = pd.read_csv('train_data3.csv')"
   ]
  },
  {
   "cell_type": "code",
   "execution_count": 12,
   "metadata": {},
   "outputs": [],
   "source": [
    "data['query'] = data['title'] + ' ' + data['content']"
   ]
  },
  {
   "cell_type": "code",
   "execution_count": 20,
   "metadata": {},
   "outputs": [
    {
     "data": {
      "text/html": [
       "<div>\n",
       "<style scoped>\n",
       "    .dataframe tbody tr th:only-of-type {\n",
       "        vertical-align: middle;\n",
       "    }\n",
       "\n",
       "    .dataframe tbody tr th {\n",
       "        vertical-align: top;\n",
       "    }\n",
       "\n",
       "    .dataframe thead th {\n",
       "        text-align: right;\n",
       "    }\n",
       "</style>\n",
       "<table border=\"1\" class=\"dataframe\">\n",
       "  <thead>\n",
       "    <tr style=\"text-align: right;\">\n",
       "      <th></th>\n",
       "      <th>query</th>\n",
       "      <th>label</th>\n",
       "    </tr>\n",
       "  </thead>\n",
       "  <tbody>\n",
       "    <tr>\n",
       "      <th>0</th>\n",
       "      <td>5 Looks That Put Burgundy Boots On Our Must-Ha...</td>\n",
       "      <td>Womens\\ Casual\\ Wear</td>\n",
       "    </tr>\n",
       "    <tr>\n",
       "      <th>1</th>\n",
       "      <td>How to Make the Most of Your 401K According to...</td>\n",
       "      <td>Personal\\ Investing</td>\n",
       "    </tr>\n",
       "    <tr>\n",
       "      <th>2</th>\n",
       "      <td>Mindful Eating “Thou shouldst eat to live; not...</td>\n",
       "      <td>Mens\\ Health</td>\n",
       "    </tr>\n",
       "    <tr>\n",
       "      <th>3</th>\n",
       "      <td>Early life adversity and high levels of FKBP5 ...</td>\n",
       "      <td>Hormonal\\ Disorders</td>\n",
       "    </tr>\n",
       "    <tr>\n",
       "      <th>4</th>\n",
       "      <td>Top 10 Strongest (Highest ATK) Monsters in Yu-...</td>\n",
       "      <td>Card\\ Games</td>\n",
       "    </tr>\n",
       "    <tr>\n",
       "      <th>...</th>\n",
       "      <td>...</td>\n",
       "      <td>...</td>\n",
       "    </tr>\n",
       "    <tr>\n",
       "      <th>9162</th>\n",
       "      <td>Koji from It Might Get loud Production brings ...</td>\n",
       "      <td>Audio\\ Production</td>\n",
       "    </tr>\n",
       "    <tr>\n",
       "      <th>9163</th>\n",
       "      <td>Go Ahead, Have a Heart Tonight is it! The year...</td>\n",
       "      <td>Mens\\ Health</td>\n",
       "    </tr>\n",
       "    <tr>\n",
       "      <th>9164</th>\n",
       "      <td>The Mobile Web Development Buffet In modern Mo...</td>\n",
       "      <td>Web\\ Hosting</td>\n",
       "    </tr>\n",
       "    <tr>\n",
       "      <th>9165</th>\n",
       "      <td>Stirring the Plot: New Cookbooks Offer Recipes...</td>\n",
       "      <td>Cookbooks</td>\n",
       "    </tr>\n",
       "    <tr>\n",
       "      <th>9166</th>\n",
       "      <td>All Aboard! Rocky Mountaineer Reveals the Sple...</td>\n",
       "      <td>Rail\\ Travel</td>\n",
       "    </tr>\n",
       "  </tbody>\n",
       "</table>\n",
       "<p>9167 rows × 2 columns</p>\n",
       "</div>"
      ],
      "text/plain": [
       "                                                  query                 label\n",
       "0     5 Looks That Put Burgundy Boots On Our Must-Ha...  Womens\\ Casual\\ Wear\n",
       "1     How to Make the Most of Your 401K According to...   Personal\\ Investing\n",
       "2     Mindful Eating “Thou shouldst eat to live; not...          Mens\\ Health\n",
       "3     Early life adversity and high levels of FKBP5 ...   Hormonal\\ Disorders\n",
       "4     Top 10 Strongest (Highest ATK) Monsters in Yu-...           Card\\ Games\n",
       "...                                                 ...                   ...\n",
       "9162  Koji from It Might Get loud Production brings ...     Audio\\ Production\n",
       "9163  Go Ahead, Have a Heart Tonight is it! The year...          Mens\\ Health\n",
       "9164  The Mobile Web Development Buffet In modern Mo...          Web\\ Hosting\n",
       "9165  Stirring the Plot: New Cookbooks Offer Recipes...             Cookbooks\n",
       "9166  All Aboard! Rocky Mountaineer Reveals the Sple...          Rail\\ Travel\n",
       "\n",
       "[9167 rows x 2 columns]"
      ]
     },
     "execution_count": 20,
     "metadata": {},
     "output_type": "execute_result"
    }
   ],
   "source": [
    "output = []\n",
    "for _, row in data.iterrows():\n",
    "    entry = {\n",
    "        'instruction': row['query'],\n",
    "        'input': '',\n",
    "        'output': row['label']\n",
    "    }\n",
    "    output.append(entry)\n",
    "\n",
    "# Convert the JSON data to a string\n",
    "json_data = json.dumps(output, indent=2)\n",
    "\n",
    "# Print the JSON data\n",
    "print(json_data)"
   ]
  },
  {
   "cell_type": "code",
   "execution_count": 6,
   "metadata": {},
   "outputs": [],
   "source": [
    "import json\n",
    "\n",
    "prompt_template = {\n",
    "    \"description\": \"Alpaca-LoRA Custom 템플릿\",\n",
    "    \"prompt_input\": (\n",
    "        \"Below is an instruction that describes a task, paired with an input that provides further context.\\n\"\n",
    "        \"아래는 작업을 설명하는 명령어와 추가적 맥락을 제공하는 입력이 짝을 이루는 예제입니다.\\n\\n\"\n",
    "        \"Write a response that appropriately completes the request.\\n요청을 적절히 완료하는 응답을 작성하세요.\\n\\n\"\n",
    "        \"### Instruction(명령어):\\n{instruction}\\n\\n### Input(입력):\\n{input}\\n\\n### Response:\\n\"\n",
    "    ),\n",
    "    \"prompt_no_input\": (\n",
    "        \"Below is an instruction that describes a task.\\n\"\n",
    "        \"아래는 작업을 설명하는 명령어입니다.\\n\\n\"\n",
    "        \"Write a response that appropriately completes the request.\\n명령어에 따른 요청을 적절히 완료하는 응답을 작성하세요.\\n\\n\"\n",
    "        \"### Instruction(명령어):\\n{instruction}\\n\\n### Response:\\n\"\n",
    "    ),\n",
    "    \"response_split\": \"### Response:\",\n",
    "}\n",
    "\n",
    "with open('/home/perfact/fine_tune/alpaca-lora/templates/custom.json', 'w', encoding='utf-8') as f:\n",
    "    json.dump(prompt_template, f, ensure_ascii=False)"
   ]
  },
  {
   "cell_type": "markdown",
   "metadata": {},
   "source": []
  },
  {
   "cell_type": "code",
   "execution_count": 7,
   "metadata": {},
   "outputs": [
    {
     "name": "stdout",
     "output_type": "stream",
     "text": [
      "python: can't open file 'finetune.py': [Errno 2] No such file or directory\n"
     ]
    }
   ],
   "source": [
    "!python finetune.py \\\n",
    "    --base_model 'decapoda-research/llama-7b-hf' \\\n",
    "    --data_path 'ko_alpaca_data.json' \\\n",
    "    --output_dir './output' \\\n",
    "    --num_epochs 1 \\\n",
    "    --learning_rate 5e-4 \\\n",
    "    --val_set_size 2000 \\\n",
    "    --batch_size 512 \\\n",
    "    --micro_batch_size 16 \\\n",
    "    --prompt_template_name 'custom'"
   ]
  },
  {
   "cell_type": "code",
   "execution_count": null,
   "metadata": {},
   "outputs": [],
   "source": []
  }
 ],
 "metadata": {
  "kernelspec": {
   "display_name": "base",
   "language": "python",
   "name": "python3"
  },
  "language_info": {
   "codemirror_mode": {
    "name": "ipython",
    "version": 3
   },
   "file_extension": ".py",
   "mimetype": "text/x-python",
   "name": "python",
   "nbconvert_exporter": "python",
   "pygments_lexer": "ipython3",
   "version": "3.8.5"
  },
  "orig_nbformat": 4
 },
 "nbformat": 4,
 "nbformat_minor": 2
}
